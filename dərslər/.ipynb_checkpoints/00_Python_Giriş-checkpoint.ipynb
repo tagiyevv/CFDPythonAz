{
 "cells": [
  {
   "cell_type": "markdown",
   "metadata": {},
   "source": [
    "# Python - Sürətli Giriş"
   ]
  },
  {
   "cell_type": "markdown",
   "metadata": {},
   "source": [
    "Salam. Bu dərs _Navier Stokes-a 12 Addım_ dərslərini istifadə edəbilməyiniz üçün lazımi Python proqramlaşdırmasına zəmin yaratmaq üçün giriş məqsədini güdür.  \n",
    "\n",
    "Dərsləri Python ilə istifadə edə bilmək üçün kompyuterinizə Python yükləməli olacaqsınız. Bununla birlikdə ya conda ipython ya da jupyter yükləməlisiniz.\n",
    "\n",
    "Terminal vasitəsi ilə kompyuterinizə yüklədiyiniz .ipynb sənədlərinin olduğu qovluğa gəldikdən sonra bu qovluqda notebook servisini başlatmalısınız. Bunun üçün terminalda aşağıdakı sətri yazmağınız kifayətdir:\n",
    "\n",
    "jupyter-notebook (jupyter üçün)\n",
    "\n",
    "ipython notebook (conda üçün)\n",
    "\n",
    "Brauzerinizdə açılan yeni pəncərədə qovluqdakı _notebook_-ların listini görəcəksiniz. Hər hansı birini açaraq başlaya bilərsiniz."
   ]
  },
  {
   "cell_type": "markdown",
   "metadata": {},
   "source": [
    "## Kitabxanalar"
   ]
  },
  {
   "cell_type": "markdown",
   "metadata": {},
   "source": [
    "Python açıq qaynaq (_opensource_ ) dildir. _Python dünyası_ öz daxilində matis (array) operasiyaları, diaqram funksiyaları və s. kimi paket vəya kitabxanaları cəmləşdirir. Biz bu kitabxanaları öz Python proqramımıza əlavə edərək (_import_) proqramın imkanlarını genişləndirə bilərik.  \n",
    "\n",
    "Beləliklə, bizə kömək edə biləcək bir sıra kitabxanaları proqramımıza əlavə etməklə başlayaq. İlk növbədə, çox işimizə yarayacaq **NumPy** kitabxanasıdır. Bu kitabxana bir çox yararlı matris əməliyyatları funksiyalarını tədarük edir (MATLAB bənzəri). Növbəti kitabxana nəticələrimizi göstərmək üçün istifadə edəcəyimiz 2-ölçülü diaqram kitabxanası **Matplotlib** olacaq. \n",
    "\n",
    "Aşağıdakı kod sətirləri bir çox proqramınızın ilk sətirləri olacaq. Bunları çalışdırın."
   ]
  },
  {
   "cell_type": "code",
   "execution_count": 1,
   "metadata": {},
   "outputs": [],
   "source": [
    "# <-- python-da şərhlər, bu sətirdə olduğu kimi, diez işarəsi ilə başlayır.\n",
    "\n",
    "import numpy                 # matrix kitabxabasını əlavə edirik\n",
    "from matplotlib import pyplot    # diaqram kitabxanasını əlavə edirik"
   ]
  },
  {
   "cell_type": "markdown",
   "metadata": {},
   "source": [
    "`numpy` kitabxanasını və `matplotlib` kitabxanasından `pyplot` modulunu əlavə edirik.\n",
    "Bu kitabxanalara aid hansısa funksiyanı istifadə etmək üçün Python-a harada axtarmalı olduğunu deməliyik. Bunun üçün hər funksiyadan əvvəl aid olduğu kitabxana nöqtə ilə ayrılaraq yazılır.\n",
    "Beləliklə, başlanğıcı və sonu arasında eyni fərqlə müəyyən sayda elementi olan vektor yaradan NumPy funksiyası [linspace()](http://docs.scipy.org/doc/numpy/reference/generated/numpy.linspace.html) istifadə etmək üçün aşağıdakı sətirləri yazırıq."
   ]
  },
  {
   "cell_type": "code",
   "execution_count": 2,
   "metadata": {},
   "outputs": [
    {
     "data": {
      "text/plain": [
       "array([0.        , 0.55555556, 1.11111111, 1.66666667, 2.22222222,\n",
       "       2.77777778, 3.33333333, 3.88888889, 4.44444444, 5.        ])"
      ]
     },
     "execution_count": 2,
     "metadata": {},
     "output_type": "execute_result"
    }
   ],
   "source": [
    "myarray = numpy.linspace(0, 5, 10)\n",
    "myarray"
   ]
  },
  {
   "cell_type": "markdown",
   "metadata": {},
   "source": [
    "Əgər `linspace()`dən əvvəl `numpy` çağırmasaq Python xəta bildirəcək."
   ]
  },
  {
   "cell_type": "code",
   "execution_count": 3,
   "metadata": {},
   "outputs": [
    {
     "ename": "NameError",
     "evalue": "name 'linspace' is not defined",
     "output_type": "error",
     "traceback": [
      "\u001b[1;31m---------------------------------------------------------------------------\u001b[0m",
      "\u001b[1;31mNameError\u001b[0m                                 Traceback (most recent call last)",
      "\u001b[1;32m<ipython-input-3-14f926e9cd07>\u001b[0m in \u001b[0;36m<module>\u001b[1;34m\u001b[0m\n\u001b[1;32m----> 1\u001b[1;33m \u001b[0mmyarray\u001b[0m \u001b[1;33m=\u001b[0m \u001b[0mlinspace\u001b[0m\u001b[1;33m(\u001b[0m\u001b[1;36m0\u001b[0m\u001b[1;33m,\u001b[0m \u001b[1;36m5\u001b[0m\u001b[1;33m,\u001b[0m \u001b[1;36m10\u001b[0m\u001b[1;33m)\u001b[0m\u001b[1;33m\u001b[0m\u001b[1;33m\u001b[0m\u001b[0m\n\u001b[0m",
      "\u001b[1;31mNameError\u001b[0m: name 'linspace' is not defined"
     ]
    }
   ],
   "source": [
    "myarray = linspace(0, 5, 10)"
   ]
  },
  {
   "cell_type": "markdown",
   "metadata": {},
   "source": [
    "`linspace()` funksiyası xeyli yararlıdır. Parametrləsini dəyişdirərək özünüz testlər edin.\n",
    "\n",
    "**Import stilləri:**\n",
    "\n",
    "Bəzi hallardan aşağıdakı sətirləri istifadə edən kodlarla qarşılaşacaqsınız\n",
    "```Python\n",
    "import numpy as np\n",
    "import matplotlib.pyplot as plt\n",
    "```\n",
    "Bunlar NumPy kitabxanası bə pyplot modulu üçün 'qısa yollar'dır. Bu tipdə istifadə ilə tez-tez qarşılaşsanızda biz açıq şəkildə istifadəyə üstünlük verəcəyik. Düşünürük ki, açıq şəkildə istifadə kodun oxunaqlılığını artırır.\n",
    "\n",
    "**Peşəkar tövsiyəsi:**\n",
    "\n",
    "Bəzən bütün kitabxananı qısa yol istifadə edilmədən əlavə edildiyi ilə qarşılaşa bilərsiniz (məsələn: `from numpy import *`). Bu kimi istifadələr sürətli yazmağı mümkün edir, ancaq müəyyən problemlərə səbəb ola bilər. Budur ki, əvvəldən yaxşı vərdişlər etmək daha yaxşı olar."
   ]
  },
  {
   "cell_type": "markdown",
   "metadata": {},
   "source": [
    "## Dəyişkənlər"
   ]
  },
  {
   "cell_type": "markdown",
   "metadata": {},
   "source": [
    "Python C və digər proqramlaşdırma dillərindəki kimi eksplisit dəyişkən bəyanına ehtiyac duymur."
   ]
  },
  {
   "cell_type": "code",
   "execution_count": 4,
   "metadata": {},
   "outputs": [],
   "source": [
    "a = 5        # a tam ədəddir (integer)\n",
    "b = 'beş'   # b string-dir\n",
    "c = 5.0      # c kəsr ədəddir (float) "
   ]
  },
  {
   "cell_type": "code",
   "execution_count": 5,
   "metadata": {},
   "outputs": [
    {
     "data": {
      "text/plain": [
       "int"
      ]
     },
     "execution_count": 5,
     "metadata": {},
     "output_type": "execute_result"
    }
   ],
   "source": [
    "type(a)"
   ]
  },
  {
   "cell_type": "code",
   "execution_count": 6,
   "metadata": {},
   "outputs": [
    {
     "data": {
      "text/plain": [
       "str"
      ]
     },
     "execution_count": 6,
     "metadata": {},
     "output_type": "execute_result"
    }
   ],
   "source": [
    "type(b)"
   ]
  },
  {
   "cell_type": "code",
   "execution_count": 7,
   "metadata": {},
   "outputs": [
    {
     "data": {
      "text/plain": [
       "float"
      ]
     },
     "execution_count": 7,
     "metadata": {},
     "output_type": "execute_result"
    }
   ],
   "source": [
    "type(c)"
   ]
  },
  {
   "cell_type": "markdown",
   "metadata": {},
   "source": [
    "Qeyd edək ki, integer ilə integer bölünərsə nəticə float olacaq. (Python 2.7 də *fərqli* idi. Ehiyatlı olun!)"
   ]
  },
  {
   "cell_type": "markdown",
   "metadata": {},
   "source": [
    "## Python-da abzaslar"
   ]
  },
  {
   "cell_type": "markdown",
   "metadata": {},
   "source": [
    "Python bəyanları qruplaşdırmaq üçün abzaslar və boşluqlardan istifadə edir. C dilində qısa bir loop aşağıdakı kimi yazılır:\n",
    "```C\n",
    "    for (i = 0, i < 5, i++){\n",
    "       printf(\"Salam! \\n\");\n",
    "    }\n",
    "```"
   ]
  },
  {
   "cell_type": "markdown",
   "metadata": {},
   "source": [
    "Python C dilində olduğu kimi, qıvrım mötərizlər istifadə etmir. Yuxarıda gördüyünüz kod Python-da belə yazılır:"
   ]
  },
  {
   "cell_type": "code",
   "execution_count": 8,
   "metadata": {},
   "outputs": [
    {
     "name": "stdout",
     "output_type": "stream",
     "text": [
      "Salam \n",
      "\n",
      "Salam \n",
      "\n",
      "Salam \n",
      "\n",
      "Salam \n",
      "\n",
      "Salam \n",
      "\n"
     ]
    }
   ],
   "source": [
    "for i in range(5):\n",
    "    print(\"Salam \\n\")"
   ]
  },
  {
   "cell_type": "markdown",
   "metadata": {},
   "source": [
    "Əgər iç-içə for-loop yazacaqsınızsa əlavə abzaslardan istifadə edəcəksiniz."
   ]
  },
  {
   "cell_type": "code",
   "execution_count": 9,
   "metadata": {},
   "outputs": [
    {
     "name": "stdout",
     "output_type": "stream",
     "text": [
      "0 0\n",
      "0 1\n",
      "0 2\n",
      "Bu ifadə i loop-undadır, j loop-unda deyil.\n",
      "1 0\n",
      "1 1\n",
      "1 2\n",
      "Bu ifadə i loop-undadır, j loop-unda deyil.\n",
      "2 0\n",
      "2 1\n",
      "2 2\n",
      "Bu ifadə i loop-undadır, j loop-unda deyil.\n"
     ]
    }
   ],
   "source": [
    "for i in range(3):\n",
    "    for j in range(3):\n",
    "        print(i, j)\n",
    "    \n",
    "    print(\"Bu ifadə i loop-undadır, j loop-unda deyil.\")"
   ]
  },
  {
   "cell_type": "markdown",
   "metadata": {},
   "source": [
    "## Matrisləri dilimləmək"
   ]
  },
  {
   "cell_type": "markdown",
   "metadata": {},
   "source": [
    "NumPy-da vektorun və ya matrisin hissələrinə `Matlab`da olduğu kimi baxa bilərsiniz. Gəlin, 1-dən 5-ə qədər elementləri olan vektora nəzər yetirək."
   ]
  },
  {
   "cell_type": "code",
   "execution_count": 10,
   "metadata": {},
   "outputs": [
    {
     "data": {
      "text/plain": [
       "array([1, 2, 3, 4, 5])"
      ]
     },
     "execution_count": 10,
     "metadata": {},
     "output_type": "execute_result"
    }
   ],
   "source": [
    "vektor1 = numpy.array([1, 2, 3, 4, 5])\n",
    "vektor1"
   ]
  },
  {
   "cell_type": "markdown",
   "metadata": {},
   "source": [
    "Pythonda indeks 0-dan başlayır. `vektor1` adlandırdığımız vektorun birinci və sonuncu elementlərinə baxaq."
   ]
  },
  {
   "cell_type": "code",
   "execution_count": 11,
   "metadata": {},
   "outputs": [
    {
     "data": {
      "text/plain": [
       "(1, 5)"
      ]
     },
     "execution_count": 11,
     "metadata": {},
     "output_type": "execute_result"
    }
   ],
   "source": [
    "vektor1[0], vektor1[4]"
   ]
  },
  {
   "cell_type": "markdown",
   "metadata": {},
   "source": [
    "`vektor1` vektorunun 5 elementi var, ancaq `vektor1[5]` elementinə baxmaq istəsək Python `vektor1[5]` ilə 6-cı elementi çağırdığımız üçün xəta verəcək."
   ]
  },
  {
   "cell_type": "code",
   "execution_count": 13,
   "metadata": {},
   "outputs": [
    {
     "ename": "IndexError",
     "evalue": "index 5 is out of bounds for axis 0 with size 5",
     "output_type": "error",
     "traceback": [
      "\u001b[1;31m---------------------------------------------------------------------------\u001b[0m",
      "\u001b[1;31mIndexError\u001b[0m                                Traceback (most recent call last)",
      "\u001b[1;32m<ipython-input-13-e66eda766cdf>\u001b[0m in \u001b[0;36m<module>\u001b[1;34m\u001b[0m\n\u001b[1;32m----> 1\u001b[1;33m \u001b[0mvektor1\u001b[0m\u001b[1;33m[\u001b[0m\u001b[1;36m5\u001b[0m\u001b[1;33m]\u001b[0m\u001b[1;33m\u001b[0m\u001b[1;33m\u001b[0m\u001b[0m\n\u001b[0m",
      "\u001b[1;31mIndexError\u001b[0m: index 5 is out of bounds for axis 0 with size 5"
     ]
    }
   ],
   "source": [
    "vektor1[5]"
   ]
  },
  {
   "cell_type": "markdown",
   "metadata": {},
   "source": [
    "Vektor və matrislər müəyyən intervalda dilimlənə də bilər. Gəlin vektorumuzun ilk üç elementinə baxaq."
   ]
  },
  {
   "cell_type": "code",
   "execution_count": 14,
   "metadata": {},
   "outputs": [
    {
     "data": {
      "text/plain": [
       "array([1, 2, 3])"
      ]
     },
     "execution_count": 14,
     "metadata": {},
     "output_type": "execute_result"
    }
   ],
   "source": [
    "vektor1[0:3]"
   ]
  },
  {
   "cell_type": "markdown",
   "metadata": {},
   "source": [
    "Diqqət etmək lazımdır ki, dilimin aşağı həddi daxildir, yuxarı həddi isə daxil deyildir. Beləliklə yuxarıdakı kod bizə `vektor1[0]`, `vektor1[1]` və `vektor1[2]` elementlərini göstərir, ancaq `vektor1[3]` elementini göstərmir."
   ]
  },
  {
   "cell_type": "markdown",
   "metadata": {},
   "source": [
    "## Vektor Dəyişkənlərininin Təyin edilməsi"
   ]
  },
  {
   "cell_type": "markdown",
   "metadata": {},
   "source": [
    "Bir çoxlarını çaşdıran Python xüsusiyyətlərindən biri vektor və ya matrislərin təyin edilməsi və elementlərinin qarşılarşdırılması ilə əlaqəlidir. Gəlin bir $a$ vektoru təyin edək:"
   ]
  },
  {
   "cell_type": "code",
   "execution_count": 17,
   "metadata": {},
   "outputs": [],
   "source": [
    "a = numpy.linspace(1,5,5)"
   ]
  },
  {
   "cell_type": "code",
   "execution_count": 18,
   "metadata": {},
   "outputs": [
    {
     "data": {
      "text/plain": [
       "array([1., 2., 3., 4., 5.])"
      ]
     },
     "execution_count": 18,
     "metadata": {},
     "output_type": "execute_result"
    }
   ],
   "source": [
    "a"
   ]
  },
  {
   "cell_type": "markdown",
   "metadata": {},
   "source": [
    "Beləliklə elementləri 1-dən 5-ə qədər olan bir vektor əldə etdik. Bu vektorun bir kopyasını hazırlayıb $b$ kimi adlandırmaq istəyirəmsə aşağıdakı sətirləri istifadə edəcəyəm."
   ]
  },
  {
   "cell_type": "code",
   "execution_count": 19,
   "metadata": {},
   "outputs": [],
   "source": [
    "b = a"
   ]
  },
  {
   "cell_type": "code",
   "execution_count": 20,
   "metadata": {},
   "outputs": [
    {
     "data": {
      "text/plain": [
       "array([1., 2., 3., 4., 5.])"
      ]
     },
     "execution_count": 20,
     "metadata": {},
     "output_type": "execute_result"
    }
   ],
   "source": [
    "b"
   ]
  },
  {
   "cell_type": "markdown",
   "metadata": {},
   "source": [
    "Əla! İndi elemntləri 1-dən 5-ə qədər olan $a$ və $b$ vektorlarım var. Deməli əlimdə $a$ vektorunun bir nüsxəsi olduğu üçün məlumatları itirməkdən qorxmayacağam (ya da mənə elə gəlir)."
   ]
  },
  {
   "cell_type": "code",
   "execution_count": 21,
   "metadata": {},
   "outputs": [],
   "source": [
    "a[2] = 17"
   ]
  },
  {
   "cell_type": "code",
   "execution_count": 22,
   "metadata": {},
   "outputs": [
    {
     "data": {
      "text/plain": [
       "array([ 1.,  2., 17.,  4.,  5.])"
      ]
     },
     "execution_count": 22,
     "metadata": {},
     "output_type": "execute_result"
    }
   ],
   "source": [
    "a"
   ]
  },
  {
   "cell_type": "markdown",
   "metadata": {},
   "source": [
    "Burada, $a$ vektorunun 3-cü elementini 17 ilə əvəz etdim. İndi isə $b$ vektoruna nəzər salaq."
   ]
  },
  {
   "cell_type": "code",
   "execution_count": 23,
   "metadata": {},
   "outputs": [
    {
     "data": {
      "text/plain": [
       "array([ 1.,  2., 17.,  4.,  5.])"
      ]
     },
     "execution_count": 23,
     "metadata": {},
     "output_type": "execute_result"
    }
   ],
   "source": [
    "b"
   ]
  },
  {
   "cell_type": "markdown",
   "metadata": {},
   "source": [
    "Budur! istədiyimiz alınmadı. $a = b$ kimi ifadələr istifadə etdiyimiz zaman Python nüsxə yaratmaq əvəzinə sadəcə olaraq ləqəb (_alias_ ) yaradır və yeni yaradılan $b$ dəyişkəni əslində $a$-a işarə edir. Yəni $a$-da etdiyimiz hər bir dəyişiklik $b$-də də öz əksini tapacaq. Əgər $a$-nın həqiqi kopyasını istəyirsinizsə Python-a $a$-nın hər bir elementini ayrı-ayrı kopyalamağını tapşırmalısınız. "
   ]
  },
  {
   "cell_type": "code",
   "execution_count": 24,
   "metadata": {},
   "outputs": [],
   "source": [
    "c = a.copy()"
   ]
  },
  {
   "cell_type": "markdown",
   "metadata": {},
   "source": [
    "İndi, $a$-da dəyişiklik edib $c$-bi müşəhidə edə bilərik."
   ]
  },
  {
   "cell_type": "code",
   "execution_count": 25,
   "metadata": {},
   "outputs": [],
   "source": [
    "a[2] = 3"
   ]
  },
  {
   "cell_type": "code",
   "execution_count": 26,
   "metadata": {},
   "outputs": [
    {
     "data": {
      "text/plain": [
       "array([1., 2., 3., 4., 5.])"
      ]
     },
     "execution_count": 26,
     "metadata": {},
     "output_type": "execute_result"
    }
   ],
   "source": [
    "a"
   ]
  },
  {
   "cell_type": "code",
   "execution_count": 27,
   "metadata": {},
   "outputs": [
    {
     "data": {
      "text/plain": [
       "array([ 1.,  2., 17.,  4.,  5.])"
      ]
     },
     "execution_count": 27,
     "metadata": {},
     "output_type": "execute_result"
    }
   ],
   "source": [
    "c"
   ]
  },
  {
   "cell_type": "markdown",
   "metadata": {},
   "source": [
    "Alındı.\n",
    "\n",
    "Əgər `a = b` ilə `a = b.copy()` arasındakı fərq hələ də aydın deyilsə bu hissəni qavrayana qədər yenidən oxumalısınız, çünki bu məsələ hər necəsə yenidən qarşınıza çıxacaq. "
   ]
  },
  {
   "cell_type": "code",
   "execution_count": 28,
   "metadata": {},
   "outputs": [
    {
     "data": {
      "text/html": [
       "<link href='http://fonts.googleapis.com/css?family=Fenix' rel='stylesheet' type='text/css'>\n",
       "<link href='http://fonts.googleapis.com/css?family=Alegreya+Sans:100,300,400,500,700,800,900,100italic,300italic,400italic,500italic,700italic,800italic,900italic' rel='stylesheet' type='text/css'>\n",
       "<link href='http://fonts.googleapis.com/css?family=Source+Code+Pro:300,400' rel='stylesheet' type='text/css'>\n",
       "<style>\n",
       "    @font-face {\n",
       "        font-family: \"Computer Modern\";\n",
       "        src: url('http://mirrors.ctan.org/fonts/cm-unicode/fonts/otf/cmunss.otf');\n",
       "    }\n",
       "    div.cell{\n",
       "        width:800px;\n",
       "        margin-left:16% !important;\n",
       "        margin-right:auto;\n",
       "    }\n",
       "    h1 {\n",
       "        font-family: 'Alegreya Sans', sans-serif;\n",
       "    }\n",
       "    h2 {\n",
       "        font-family: 'Fenix', serif;\n",
       "    }\n",
       "    h3{\n",
       "\t\tfont-family: 'Fenix', serif;\n",
       "        margin-top:12px;\n",
       "        margin-bottom: 3px;\n",
       "       }\n",
       "\th4{\n",
       "\t\tfont-family: 'Fenix', serif;\n",
       "       }\n",
       "    h5 {\n",
       "        font-family: 'Alegreya Sans', sans-serif;\n",
       "    }\t   \n",
       "    div.text_cell_render{\n",
       "        font-family: 'Alegreya Sans',Computer Modern, \"Helvetica Neue\", Arial, Helvetica, Geneva, sans-serif;\n",
       "        line-height: 135%;\n",
       "        font-size: 120%;\n",
       "        width:600px;\n",
       "        margin-left:auto;\n",
       "        margin-right:auto;\n",
       "    }\n",
       "    .CodeMirror{\n",
       "            font-family: \"Source Code Pro\";\n",
       "\t\t\tfont-size: 90%;\n",
       "    }\n",
       "/*    .prompt{\n",
       "        display: None;\n",
       "    }*/\n",
       "    .text_cell_render h1 {\n",
       "        font-weight: 200;\n",
       "        font-size: 50pt;\n",
       "\t\tline-height: 100%;\n",
       "        color:#CD2305;\n",
       "        margin-bottom: 0.5em;\n",
       "        margin-top: 0.5em;\n",
       "        display: block;\n",
       "    }\t\n",
       "    .text_cell_render h5 {\n",
       "        font-weight: 300;\n",
       "        font-size: 16pt;\n",
       "        color: #CD2305;\n",
       "        font-style: italic;\n",
       "        margin-bottom: .5em;\n",
       "        margin-top: 0.5em;\n",
       "        display: block;\n",
       "    }\n",
       "    \n",
       "    .warning{\n",
       "        color: rgb( 240, 20, 20 )\n",
       "        }  \n",
       "</style>\n",
       "<script>\n",
       "    MathJax.Hub.Config({\n",
       "                        TeX: {\n",
       "                           extensions: [\"AMSmath.js\"]\n",
       "                           },\n",
       "                tex2jax: {\n",
       "                    inlineMath: [ ['$','$'], [\"\\\\(\",\"\\\\)\"] ],\n",
       "                    displayMath: [ ['$$','$$'], [\"\\\\[\",\"\\\\]\"] ]\n",
       "                },\n",
       "                displayAlign: 'center', // Change this to 'center' to center equations.\n",
       "                \"HTML-CSS\": {\n",
       "                    styles: {'.MathJax_Display': {\"margin\": 4}}\n",
       "                }\n",
       "        });\n",
       "</script>\n"
      ],
      "text/plain": [
       "<IPython.core.display.HTML object>"
      ]
     },
     "execution_count": 28,
     "metadata": {},
     "output_type": "execute_result"
    }
   ],
   "source": [
    "from IPython.core.display import HTML\n",
    "def css_styling():\n",
    "    styles = open(\"../styles/custom.css\", \"r\").read()\n",
    "    return HTML(styles)\n",
    "css_styling()"
   ]
  }
 ],
 "metadata": {
  "kernelspec": {
   "display_name": "Python 3",
   "language": "python",
   "name": "python3"
  },
  "language_info": {
   "codemirror_mode": {
    "name": "ipython",
    "version": 3
   },
   "file_extension": ".py",
   "mimetype": "text/x-python",
   "name": "python",
   "nbconvert_exporter": "python",
   "pygments_lexer": "ipython3",
   "version": "3.8.1"
  }
 },
 "nbformat": 4,
 "nbformat_minor": 1
}
